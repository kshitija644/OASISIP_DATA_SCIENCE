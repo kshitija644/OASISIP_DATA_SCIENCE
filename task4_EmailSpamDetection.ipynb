{
 "cells": [
  {
   "cell_type": "raw",
   "id": "73c73886-671e-4702-a95b-3384c8204e64",
   "metadata": {},
   "source": [
    "EMAIL SPAM DETECTION USING MACHINE LEARNING"
   ]
  },
  {
   "cell_type": "code",
   "execution_count": 3,
   "id": "625c85b3-4975-4cae-be8f-02294e65d53c",
   "metadata": {},
   "outputs": [],
   "source": [
    "import pandas as pd\n",
    "from sklearn.model_selection import train_test_split\n",
    "from sklearn.feature_extraction.text import CountVectorizer \n",
    "from sklearn.linear_model import LogisticRegression \n",
    "from sklearn.metrics import classification_report, accuracy_score, precision_score, recall_score, f1_score, confusion_matrix\n",
    "from sklearn.preprocessing import LabelEncoder\n",
    "import numpy as np\n",
    "import re\n",
    "import string\n",
    "import warnings"
   ]
  },
  {
   "cell_type": "code",
   "execution_count": 2,
   "id": "b7a165a2-7fcb-460e-8859-831039872f92",
   "metadata": {},
   "outputs": [],
   "source": [
    "warnings.filterwarnings('ignore')"
   ]
  },
  {
   "cell_type": "code",
   "execution_count": 4,
   "id": "4f9bf95d-6d7d-4da5-8cf5-960726563ddc",
   "metadata": {},
   "outputs": [
    {
     "name": "stdout",
     "output_type": "stream",
     "text": [
      "Dataset loaded successfully!\n"
     ]
    }
   ],
   "source": [
    "try:\n",
    "   \n",
    "    df = pd.read_csv('spam.csv', encoding='latin1') \n",
    "    df = df.iloc[:, :2]\n",
    "    df.columns = ['label', 'text']\n",
    "    print(\"Dataset loaded successfully!\")\n",
    "except FileNotFoundError:\n",
    "    print(\"Error: 'spam.csv' not found. Please ensure the file is uploaded.\")\n",
    "    print(\"For demonstration, creating a dummy dataset if 'spam.csv' was not provided.\")\n",
    "    data = {\n",
    "        'label': ['ham', 'spam', 'ham', 'ham', 'spam', 'ham', 'spam', 'ham'],\n",
    "        'text': [\n",
    "            \"Hey, how are you?\",\n",
    "            \"WINNER! U have won $1000! Claim now!\",\n",
    "            \"Call me back later.\",\n",
    "            \"Meeting at 3 PM.\",\n",
    "            \"FREE entry to exclusive casino for VIPs! Text 'PLAY' to 1234.\",\n",
    "            \"Did you get the document?\",\n",
    "            \"URGENT! Your account has been compromised. Click this link: bit.ly/malicious\",\n",
    "            \"See you tomorrow.\"\n",
    "        ]\n",
    "    }\n",
    "    df = pd.DataFrame(data)\n",
    "    print(\"Dummy dataset created for demonstration purposes.\")\n"
   ]
  },
  {
   "cell_type": "code",
   "execution_count": 5,
   "id": "cb67c660-7b37-43d8-95f2-0c38f51ce743",
   "metadata": {},
   "outputs": [
    {
     "name": "stdout",
     "output_type": "stream",
     "text": [
      "\n",
      "--- Original Dataset Head ---\n",
      "  label                                               text\n",
      "0   ham  Go until jurong point, crazy.. Available only ...\n",
      "1   ham                      Ok lar... Joking wif u oni...\n",
      "2  spam  Free entry in 2 a wkly comp to win FA Cup fina...\n",
      "3   ham  U dun say so early hor... U c already then say...\n",
      "4   ham  Nah I don't think he goes to usf, he lives aro...\n",
      "\n",
      "--- Dataset Info ---\n",
      "<class 'pandas.core.frame.DataFrame'>\n",
      "RangeIndex: 5572 entries, 0 to 5571\n",
      "Data columns (total 2 columns):\n",
      " #   Column  Non-Null Count  Dtype \n",
      "---  ------  --------------  ----- \n",
      " 0   label   5572 non-null   object\n",
      " 1   text    5572 non-null   object\n",
      "dtypes: object(2)\n",
      "memory usage: 87.2+ KB\n",
      "\n",
      "--- Missing Values Before Preprocessing ---\n",
      "label    0\n",
      "text     0\n",
      "dtype: int64\n",
      "\n",
      "Total rows before dropping NaNs: 5572\n"
     ]
    }
   ],
   "source": [
    "print(\"\\n--- Original Dataset Head ---\")\n",
    "print(df.head())\n",
    "print(\"\\n--- Dataset Info ---\")\n",
    "df.info()\n",
    "print(\"\\n--- Missing Values Before Preprocessing ---\")\n",
    "print(df.isnull().sum())\n",
    "print(f\"\\nTotal rows before dropping NaNs: {df.shape[0]}\")"
   ]
  },
  {
   "cell_type": "code",
   "execution_count": 6,
   "id": "3950e648-950e-4c24-96fc-3ad2be3cb6a2",
   "metadata": {},
   "outputs": [
    {
     "name": "stdout",
     "output_type": "stream",
     "text": [
      "\n",
      "Total rows after dropping NaNs: 5572\n",
      "\n",
      "--- Missing Values After Preprocessing ---\n",
      "label    0\n",
      "text     0\n",
      "dtype: int64\n"
     ]
    }
   ],
   "source": [
    "df.dropna(inplace=True)\n",
    "print(f\"\\nTotal rows after dropping NaNs: {df.shape[0]}\")\n",
    "print(\"\\n--- Missing Values After Preprocessing ---\")\n",
    "print(df.isnull().sum())"
   ]
  },
  {
   "cell_type": "code",
   "execution_count": 7,
   "id": "2915a405-262f-4176-8c5c-e7b687e4f3fa",
   "metadata": {},
   "outputs": [
    {
     "name": "stdout",
     "output_type": "stream",
     "text": [
      "\n",
      "--- Label Encoding Mapping ---\n",
      "{'ham': np.int64(0), 'spam': np.int64(1)}\n"
     ]
    }
   ],
   "source": [
    "le = LabelEncoder()\n",
    "df['label_encoded'] = le.fit_transform(df['label'])\n",
    "print(\"\\n--- Label Encoding Mapping ---\")\n",
    "print(dict(zip(le.classes_, le.transform(le.classes_))))\n"
   ]
  },
  {
   "cell_type": "code",
   "execution_count": 9,
   "id": "f0297e7c-0efb-44bf-91b6-f5810b35df34",
   "metadata": {},
   "outputs": [
    {
     "name": "stdout",
     "output_type": "stream",
     "text": [
      "\n",
      "--- Dataset Head with Cleaned Text ---\n",
      "  label                                               text  label_encoded  \\\n",
      "0   ham  Go until jurong point, crazy.. Available only ...              0   \n",
      "1   ham                      Ok lar... Joking wif u oni...              0   \n",
      "2  spam  Free entry in 2 a wkly comp to win FA Cup fina...              1   \n",
      "3   ham  U dun say so early hor... U c already then say...              0   \n",
      "4   ham  Nah I don't think he goes to usf, he lives aro...              0   \n",
      "\n",
      "                                        cleaned_text  \n",
      "0  go until jurong point crazy available only in ...  \n",
      "1                            ok lar joking wif u oni  \n",
      "2  free entry in 2 a wkly comp to win fa cup fina...  \n",
      "3        u dun say so early hor u c already then say  \n",
      "4  nah i dont think he goes to usf he lives aroun...  \n"
     ]
    }
   ],
   "source": [
    "def preprocess_text(text):\n",
    "    text = text.lower() \n",
    "    text = ''.join([char for char in text if char not in string.punctuation]) \n",
    "    text = text.strip() \n",
    "    return text\n",
    "\n",
    "df['cleaned_text'] = df['text'].apply(preprocess_text)\n",
    "\n",
    "print(\"\\n--- Dataset Head with Cleaned Text ---\")\n",
    "print(df.head())"
   ]
  },
  {
   "cell_type": "code",
   "execution_count": 10,
   "id": "ab63cf0e-75ee-4fa6-8d8c-54e9eb2bb45e",
   "metadata": {},
   "outputs": [
    {
     "name": "stdout",
     "output_type": "stream",
     "text": [
      "\n",
      "Shape of vectorized text data (X): (5572, 9489)\n",
      "Number of unique words (features): 9489\n"
     ]
    }
   ],
   "source": [
    "vectorizer = CountVectorizer()\n",
    "X = vectorizer.fit_transform(df['cleaned_text'])\n",
    "y = df['label_encoded']\n",
    "\n",
    "print(f\"\\nShape of vectorized text data (X): {X.shape}\")\n",
    "print(f\"Number of unique words (features): {X.shape[1]}\")"
   ]
  },
  {
   "cell_type": "code",
   "execution_count": 11,
   "id": "bb4951d3-9846-49ab-9f19-6d2783e2dc69",
   "metadata": {},
   "outputs": [
    {
     "name": "stdout",
     "output_type": "stream",
     "text": [
      "\n",
      "Training features shape: (4457, 9489)\n",
      "Testing features shape: (1115, 9489)\n",
      "Training target shape: (4457,)\n",
      "Testing target shape: (1115,)\n",
      "Training set class distribution:\n",
      "label_encoded\n",
      "0    0.865829\n",
      "1    0.134171\n",
      "Name: proportion, dtype: float64\n",
      "Testing set class distribution:\n",
      "label_encoded\n",
      "0    0.866368\n",
      "1    0.133632\n",
      "Name: proportion, dtype: float64\n"
     ]
    }
   ],
   "source": [
    "X_train, X_test, y_train, y_test = train_test_split(X, y, test_size=0.2, random_state=42, stratify=y)\n",
    "\n",
    "print(f\"\\nTraining features shape: {X_train.shape}\")\n",
    "print(f\"Testing features shape: {X_test.shape}\")\n",
    "print(f\"Training target shape: {y_train.shape}\")\n",
    "print(f\"Testing target shape: {y_test.shape}\")\n",
    "print(f\"Training set class distribution:\\n{y_train.value_counts(normalize=True)}\")\n",
    "print(f\"Testing set class distribution:\\n{y_test.value_counts(normalize=True)}\")\n"
   ]
  },
  {
   "cell_type": "code",
   "execution_count": 14,
   "id": "f7e983fb-f603-4e36-9871-c1db770671d8",
   "metadata": {},
   "outputs": [
    {
     "name": "stdout",
     "output_type": "stream",
     "text": [
      "\n",
      "--- Model Training Complete (Logistic Regression) ---\n",
      "\n",
      "--- Model Evaluation ---\n",
      "Confusion Matrix:\n",
      "[[964   2]\n",
      " [ 17 132]]\n",
      "  True Negatives (TN - Correctly Ham): 964\n",
      "  False Positives (FP - Ham classified as Spam): 2\n",
      "  False Negatives (FN - Spam classified as Ham): 17\n",
      "  True Positives (TP - Correctly Spam): 132\n",
      "\n",
      "Accuracy: 0.9830\n"
     ]
    }
   ],
   "source": [
    "model = LogisticRegression(solver='liblinear', random_state=42) # 'liblinear' is good for small datasets\n",
    "model.fit(X_train, y_train)\n",
    "\n",
    "print(\"\\n--- Model Training Complete (Logistic Regression) ---\")\n",
    "y_pred = model.predict(X_test)\n",
    "y_proba = model.predict_proba(X_test)[:, 1] \n",
    "print(\"\\n--- Model Evaluation ---\")\n",
    "\n",
    "\n",
    "cm = confusion_matrix(y_test, y_pred)\n",
    "print(\"Confusion Matrix:\")\n",
    "print(cm)\n",
    "print(f\"  True Negatives (TN - Correctly Ham): {cm[0,0]}\")\n",
    "print(f\"  False Positives (FP - Ham classified as Spam): {cm[0,1]}\")\n",
    "print(f\"  False Negatives (FN - Spam classified as Ham): {cm[1,0]}\")\n",
    "print(f\"  True Positives (TP - Correctly Spam): {cm[1,1]}\")\n",
    "\n",
    "accuracy = accuracy_score(y_test, y_pred)\n",
    "print(f\"\\nAccuracy: {accuracy:.4f}\")"
   ]
  },
  {
   "cell_type": "code",
   "execution_count": 15,
   "id": "6d85fa94-7320-4a8c-8aac-afd5afdf657b",
   "metadata": {},
   "outputs": [
    {
     "name": "stdout",
     "output_type": "stream",
     "text": [
      "\n",
      "Accuracy: 0.9830\n"
     ]
    }
   ],
   "source": [
    "accuracy = accuracy_score(y_test, y_pred)\n",
    "print(f\"\\nAccuracy: {accuracy:.4f}\")"
   ]
  },
  {
   "cell_type": "code",
   "execution_count": 16,
   "id": "cc7a978d-24e4-49f8-8a37-e94b260143bd",
   "metadata": {},
   "outputs": [
    {
     "name": "stdout",
     "output_type": "stream",
     "text": [
      "Precision (Spam): 0.9851\n",
      "Recall (Spam): 0.8859\n",
      "F1-Score (Spam): 0.9329\n"
     ]
    }
   ],
   "source": [
    "precision = precision_score(y_test, y_pred)\n",
    "recall = recall_score(y_test, y_pred)\n",
    "f1 = f1_score(y_test, y_pred)\n",
    "print(f\"Precision (Spam): {precision:.4f}\")\n",
    "print(f\"Recall (Spam): {recall:.4f}\")\n",
    "print(f\"F1-Score (Spam): {f1:.4f}\")"
   ]
  },
  {
   "cell_type": "code",
   "execution_count": 17,
   "id": "e17e4c9b-4caa-4a35-bbbf-c637e8723012",
   "metadata": {},
   "outputs": [
    {
     "name": "stdout",
     "output_type": "stream",
     "text": [
      "\n",
      "Classification Report:\n",
      "              precision    recall  f1-score   support\n",
      "\n",
      "         ham       0.98      1.00      0.99       966\n",
      "        spam       0.99      0.89      0.93       149\n",
      "\n",
      "    accuracy                           0.98      1115\n",
      "   macro avg       0.98      0.94      0.96      1115\n",
      "weighted avg       0.98      0.98      0.98      1115\n",
      "\n",
      "\n",
      "--- Example Spam Detection ---\n"
     ]
    }
   ],
   "source": [
    "print(\"\\nClassification Report:\")\n",
    "print(classification_report(y_test, y_pred, target_names=le.classes_))\n",
    "\n",
    "print(\"\\n--- Example Spam Detection ---\")\n",
    "\n",
    "new_emails = [\n",
    "    \"Hello, how are you doing today? Let's catch up soon.\", # Ham\n",
    "    \"URGENT: Your bank account needs verification. Click here immediately to avoid suspension.\", # Spam\n",
    "    \"Meeting reminder for tomorrow morning at 10 AM.\", # Ham\n",
    "    \"Congratulations! You've won a FREE iPhone. Claim your prize now!\", # Spam\n",
    "    \"Please send your details for a job interview opportunity.\" # Likely Ham, could be phishing\n",
    "]\n"
   ]
  },
  {
   "cell_type": "code",
   "execution_count": 19,
   "id": "3993e58e-0b3f-46a8-a09d-f775217f898a",
   "metadata": {},
   "outputs": [
    {
     "name": "stdout",
     "output_type": "stream",
     "text": [
      "\n",
      "--- New Email Predictions ---\n",
      "Email: 'Hello, how are you doing today? Let's catch up soon.'\n",
      "  Predicted: ham (Probability of Spam: 0.0059)\n",
      "--------------------------------------------------\n",
      "Email: 'URGENT: Your bank account needs verification. Click here immediately to avoid suspension.'\n",
      "  Predicted: ham (Probability of Spam: 0.2382)\n",
      "--------------------------------------------------\n",
      "Email: 'Meeting reminder for tomorrow morning at 10 AM.'\n",
      "  Predicted: ham (Probability of Spam: 0.0057)\n",
      "--------------------------------------------------\n",
      "Email: 'Congratulations! You've won a FREE iPhone. Claim your prize now!'\n",
      "  Predicted: spam (Probability of Spam: 0.9239)\n",
      "--------------------------------------------------\n",
      "Email: 'Please send your details for a job interview opportunity.'\n",
      "  Predicted: ham (Probability of Spam: 0.0780)\n",
      "--------------------------------------------------\n"
     ]
    }
   ],
   "source": [
    "cleaned_new_emails = [preprocess_text(email) for email in new_emails]\n",
    "new_emails_vectorized = vectorizer.transform(cleaned_new_emails)\n",
    "\n",
    "# Make predictions\n",
    "predictions_encoded = model.predict(new_emails_vectorized)\n",
    "predictions_labels = le.inverse_transform(predictions_encoded)\n",
    "probabilities = model.predict_proba(new_emails_vectorized)\n",
    "\n",
    "print(\"\\n--- New Email Predictions ---\")\n",
    "for i, email in enumerate(new_emails):\n",
    "    print(f\"Email: '{email}'\")\n",
    "    print(f\"  Predicted: {predictions_labels[i]} (Probability of Spam: {probabilities[i][1]:.4f})\")\n",
    "    print(\"-\" * 50)\n",
    "\n"
   ]
  },
  {
   "cell_type": "code",
   "execution_count": null,
   "id": "68c32302-f155-4df7-8e2f-a6f348192749",
   "metadata": {},
   "outputs": [],
   "source": []
  }
 ],
 "metadata": {
  "kernelspec": {
   "display_name": "Python 3 (ipykernel)",
   "language": "python",
   "name": "python3"
  },
  "language_info": {
   "codemirror_mode": {
    "name": "ipython",
    "version": 3
   },
   "file_extension": ".py",
   "mimetype": "text/x-python",
   "name": "python",
   "nbconvert_exporter": "python",
   "pygments_lexer": "ipython3",
   "version": "3.13.5"
  }
 },
 "nbformat": 4,
 "nbformat_minor": 5
}
