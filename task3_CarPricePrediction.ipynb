{
 "cells": [
  {
   "cell_type": "raw",
   "id": "656f7c34-fe6c-4f0a-a17e-aff769b88b2e",
   "metadata": {},
   "source": [
    "CAR PRICE PREDICTION USING PYTHON "
   ]
  },
  {
   "cell_type": "code",
   "execution_count": 30,
   "id": "d61a1638-e4ba-4883-ba89-d89b8c6fc037",
   "metadata": {},
   "outputs": [],
   "source": [
    "import pandas as pd\n",
    "from sklearn.model_selection import train_test_split\n",
    "from sklearn.ensemble import RandomForestRegressor \n",
    "from sklearn.metrics import mean_absolute_error, r2_score, mean_squared_error\n",
    "from sklearn.preprocessing import LabelEncoder, OneHotEncoder, StandardScaler\n",
    "from sklearn.compose import ColumnTransformer\n",
    "from sklearn.pipeline import Pipeline\n",
    "import numpy as np\n",
    "import warnings"
   ]
  },
  {
   "cell_type": "code",
   "execution_count": 10,
   "id": "72f17593-52f5-484c-8643-4f648f834174",
   "metadata": {},
   "outputs": [],
   "source": [
    "warnings.filterwarnings('ignore')"
   ]
  },
  {
   "cell_type": "code",
   "execution_count": 20,
   "id": "274c1148-1873-4795-b23d-710fdeaec6fc",
   "metadata": {},
   "outputs": [
    {
     "name": "stdout",
     "output_type": "stream",
     "text": [
      "Data loaded Successfully!\n"
     ]
    }
   ],
   "source": [
    "try:\n",
    "    df = pd.read_csv('C:/Users/Akash/OneDrive - Erin.N.Nagarvala Day School/Desktop/jupyter notebook/car_data.csv') \n",
    "    print(\"Data loaded Successfully!\")\n",
    "except FileNotFoundError:\n",
    "    print(\"Error: 'car_data.csv' not found. Please ensure your dataset file is in the correct directory.\")\n",
    "    print(\"For demonstration, creating a dummy dataset as 'car_data.csv' was not provided.\")\n",
    "  "
   ]
  },
  {
   "cell_type": "code",
   "execution_count": 21,
   "id": "9e723323-0476-43b5-bff8-7711707f3b4c",
   "metadata": {},
   "outputs": [],
   "source": [
    "np.random.seed(42)\n",
    "data = {\n",
    "        'Brand': np.random.choice(['Toyota', 'Honda', 'Ford', 'BMW', 'Mercedes'], 100),\n",
    "        'Model': np.random.choice(['Sedan', 'SUV', 'Hatchback'], 100),\n",
    "        'Year': np.random.randint(2005, 2024, 100),\n",
    "        'Mileage_km': np.random.randint(10000, 150000, 100),\n",
    "        'Fuel_Type': np.random.choice(['Petrol', 'Diesel', 'Electric'], 100),\n",
    "        'Transmission': np.random.choice(['Manual', 'Automatic'], 100),\n",
    "        'Engine_Size_L': np.round(np.random.uniform(1.0, 3.5, 100), 1),\n",
    "        'Horsepower_bhp': np.random.randint(80, 300, 100),\n",
    "        'Seats': np.random.choice([4, 5, 7], 100),\n",
    "        'Price_ Lakhs': np.round(np.random.uniform(5, 50, 100) * 10, 2) # Example prices in Lakhs\n",
    "    }"
   ]
  },
  {
   "cell_type": "code",
   "execution_count": 22,
   "id": "2f4e39e9-4c02-4665-8d46-0810a0610be7",
   "metadata": {},
   "outputs": [
    {
     "name": "stdout",
     "output_type": "stream",
     "text": [
      "Dummy dataset created for demonstration purposes.\n",
      "\n",
      "--- Original Dataset Head ---\n",
      "      Brand      Model  Year  Mileage_km Fuel_Type Transmission  \\\n",
      "0       BMW  Hatchback  2021      103179    Diesel       Manual   \n",
      "1  Mercedes      Sedan  2006       55714    Diesel       Manual   \n",
      "2      Ford        SUV  2006      112946    Diesel       Manual   \n",
      "3  Mercedes      Sedan  2009      119616    Petrol    Automatic   \n",
      "4  Mercedes  Hatchback  2005      115983    Diesel    Automatic   \n",
      "\n",
      "   Engine_Size_L  Horsepower_bhp  Seats  Price_ Lakhs  \n",
      "0            2.2             136      5        491.87  \n",
      "1            1.0             224      7        308.80  \n",
      "2            2.2             191      5        465.73  \n",
      "3            1.1             126      7         67.79  \n",
      "4            1.3             230      7        485.78  \n",
      "\n",
      "--- Dataset Info ---\n",
      "<class 'pandas.core.frame.DataFrame'>\n",
      "RangeIndex: 100 entries, 0 to 99\n",
      "Data columns (total 10 columns):\n",
      " #   Column          Non-Null Count  Dtype  \n",
      "---  ------          --------------  -----  \n",
      " 0   Brand           100 non-null    object \n",
      " 1   Model           100 non-null    object \n",
      " 2   Year            100 non-null    int32  \n",
      " 3   Mileage_km      100 non-null    int32  \n",
      " 4   Fuel_Type       100 non-null    object \n",
      " 5   Transmission    100 non-null    object \n",
      " 6   Engine_Size_L   100 non-null    float64\n",
      " 7   Horsepower_bhp  100 non-null    int32  \n",
      " 8   Seats           100 non-null    int64  \n",
      " 9   Price_ Lakhs    100 non-null    float64\n",
      "dtypes: float64(2), int32(3), int64(1), object(4)\n",
      "memory usage: 6.8+ KB\n",
      "\n",
      "--- Missing Values Before Preprocessing ---\n",
      "Brand             0\n",
      "Model             0\n",
      "Year              0\n",
      "Mileage_km        0\n",
      "Fuel_Type         0\n",
      "Transmission      0\n",
      "Engine_Size_L     0\n",
      "Horsepower_bhp    0\n",
      "Seats             0\n",
      "Price_ Lakhs      0\n",
      "dtype: int64\n",
      "\n",
      "Total rows before dropping NaNs: 100\n"
     ]
    }
   ],
   "source": [
    "df = pd.DataFrame(data)\n",
    "df['Price_ Lakhs'] = df['Price_ Lakhs'] + (df['Year'] - 2010) * 2 + (300 - df['Horsepower_bhp']) * 0.1\n",
    "df['Price_ Lakhs'] = df['Price_ Lakhs'].apply(lambda x: max(1, x)) # Ensure positive prices\n",
    "print(\"Dummy dataset created for demonstration purposes.\")\n",
    "\n",
    "print(\"\\n--- Original Dataset Head ---\")\n",
    "print(df.head())\n",
    "print(\"\\n--- Dataset Info ---\")\n",
    "df.info()\n",
    "print(\"\\n--- Missing Values Before Preprocessing ---\")\n",
    "print(df.isnull().sum())\n",
    "print(f\"\\nTotal rows before dropping NaNs: {df.shape[0]}\")\n"
   ]
  },
  {
   "cell_type": "code",
   "execution_count": 23,
   "id": "db586f1b-b43f-484e-a886-46ac8358db7d",
   "metadata": {},
   "outputs": [
    {
     "name": "stdout",
     "output_type": "stream",
     "text": [
      "\n",
      "Total rows after dropping NaNs: 100\n",
      "\n",
      "--- Missing Values After Preprocessing ---\n",
      "Brand             0\n",
      "Model             0\n",
      "Year              0\n",
      "Mileage_km        0\n",
      "Fuel_Type         0\n",
      "Transmission      0\n",
      "Engine_Size_L     0\n",
      "Horsepower_bhp    0\n",
      "Seats             0\n",
      "Price_ Lakhs      0\n",
      "dtype: int64\n"
     ]
    }
   ],
   "source": [
    "df.dropna(inplace=True)\n",
    "print(f\"\\nTotal rows after dropping NaNs: {df.shape[0]}\")\n",
    "print(\"\\n--- Missing Values After Preprocessing ---\")\n",
    "print(df.isnull().sum())"
   ]
  },
  {
   "cell_type": "code",
   "execution_count": 31,
   "id": "422cc8ba-a88a-43ec-b711-cd0215826a29",
   "metadata": {},
   "outputs": [],
   "source": [
    "target_col = 'Price_ Lakhs'\n",
    "features = df.columns.tolist()\n",
    "features.remove(target_col)\n",
    "numerical_features = ['Year', 'Mileage_km', 'Engine_Size_L', 'Horsepower_bhp', 'Seats']\n",
    "categorical_features = ['Brand', 'Model', 'Fuel_Type', 'Transmission'] \n",
    "\n",
    "numerical_features = [f for f in numerical_features if f in df.columns]\n",
    "categorical_features = [f for f in categorical_features if f in df.columns]\n",
    "\n",
    "preprocessor = ColumnTransformer(\n",
    "    transformers=[\n",
    "        ('num', StandardScaler(), numerical_features), \n",
    "        ('cat', OneHotEncoder(handle_unknown='ignore'), categorical_features) \n",
    "    ])\n"
   ]
  },
  {
   "cell_type": "code",
   "execution_count": 32,
   "id": "1bed13e6-1562-4373-b1f1-c12843130257",
   "metadata": {},
   "outputs": [
    {
     "name": "stdout",
     "output_type": "stream",
     "text": [
      "\n",
      "--- Preprocessing Pipeline Created ---\n",
      "\n",
      "Training features shape: (80, 9)\n",
      "Testing features shape: (20, 9)\n",
      "Training target shape: (80,)\n",
      "Testing target shape: (20,)\n"
     ]
    }
   ],
   "source": [
    "print(\"\\n--- Preprocessing Pipeline Created ---\")\n",
    "\n",
    "X = df[features]\n",
    "y = df[target_col]\n",
    "X_train, X_test, y_train, y_test = train_test_split(X, y, test_size=0.2, random_state=42)\n",
    "\n",
    "print(f\"\\nTraining features shape: {X_train.shape}\")\n",
    "print(f\"Testing features shape: {X_test.shape}\")\n",
    "print(f\"Training target shape: {y_train.shape}\")\n",
    "print(f\"Testing target shape: {y_test.shape}\")\n"
   ]
  },
  {
   "cell_type": "code",
   "execution_count": 33,
   "id": "a6dea9ac-5e0e-4ea2-b6ec-0ffd1fe1b4be",
   "metadata": {},
   "outputs": [
    {
     "name": "stdout",
     "output_type": "stream",
     "text": [
      "\n",
      "--- Model Training Complete (RandomForestRegressor Pipeline) ---\n",
      "\n",
      "--- Model Evaluation ---\n",
      "Mean Absolute Error (MAE): 107.5567\n",
      "Mean Squared Error (MSE): 16669.5440\n",
      "Root Mean Squared Error (RMSE): 129.1106\n",
      "R-squared (R2) Score: 0.0062\n"
     ]
    }
   ],
   "source": [
    "model_pipeline = Pipeline(steps=[('preprocessor', preprocessor),\n",
    "                               ('regressor', RandomForestRegressor(n_estimators=100, random_state=42, n_jobs=-1))])\n",
    "\n",
    "# Train the pipeline\n",
    "model_pipeline.fit(X_train, y_train)\n",
    "\n",
    "print(\"\\n--- Model Training Complete (RandomForestRegressor Pipeline) ---\")\n",
    "y_pred = model_pipeline.predict(X_test)\n",
    "\n",
    "mae = mean_absolute_error(y_test, y_pred)\n",
    "mse = mean_squared_error(y_test, y_pred)\n",
    "rmse = np.sqrt(mse) \n",
    "r2 = r2_score(y_test, y_pred)\n",
    "\n",
    "print(f\"\\n--- Model Evaluation ---\")\n",
    "print(f\"Mean Absolute Error (MAE): {mae:.4f}\")\n",
    "print(f\"Mean Squared Error (MSE): {mse:.4f}\")\n",
    "print(f\"Root Mean Squared Error (RMSE): {rmse:.4f}\")\n",
    "print(f\"R-squared (R2) Score: {r2:.4f}\")\n"
   ]
  },
  {
   "cell_type": "code",
   "execution_count": 34,
   "id": "59e0a195-745e-4b9a-8211-c8e141015688",
   "metadata": {},
   "outputs": [],
   "source": [
    "new_car_data = pd.DataFrame({\n",
    "    'Brand': ['Toyota'],\n",
    "    'Model': ['SUV'],\n",
    "    'Year': [2022],\n",
    "    'Mileage_km': [30000],\n",
    "    'Fuel_Type': ['Petrol'],\n",
    "    'Transmission': ['Automatic'],\n",
    "    'Engine_Size_L': [2.0],\n",
    "    'Horsepower_bhp': [150],\n",
    "    'Seats': [5]\n",
    "})"
   ]
  },
  {
   "cell_type": "code",
   "execution_count": 35,
   "id": "dd954945-8d50-4fe7-9647-e02c31cdd566",
   "metadata": {},
   "outputs": [
    {
     "name": "stdout",
     "output_type": "stream",
     "text": [
      "New Car Data:\n",
      "    Brand Model  Year  Mileage_km Fuel_Type Transmission  Engine_Size_L  \\\n",
      "0  Toyota   SUV  2022       30000    Petrol    Automatic            2.0   \n",
      "\n",
      "   Horsepower_bhp  Seats  \n",
      "0             150      5  \n",
      "Predicted Car Price: ₹237.14 Lakhs\n"
     ]
    }
   ],
   "source": [
    "predicted_price = model_pipeline.predict(new_car_data)\n",
    "\n",
    "print(f\"New Car Data:\\n{new_car_data}\")\n",
    "print(f\"Predicted Car Price: ₹{predicted_price[0]:,.2f} Lakhs\")"
   ]
  },
  {
   "cell_type": "code",
   "execution_count": 36,
   "id": "14273989-1bc5-4b0b-85d8-1e152afedf77",
   "metadata": {},
   "outputs": [
    {
     "name": "stdout",
     "output_type": "stream",
     "text": [
      "\n",
      "New Car Data 2:\n",
      "      Brand  Model  Year  Mileage_km Fuel_Type Transmission  Engine_Size_L  \\\n",
      "0  Mercedes  Sedan  2023        5000    Diesel    Automatic            3.0   \n",
      "\n",
      "   Horsepower_bhp  Seats  \n",
      "0             250      5  \n",
      "Predicted Car Price 2: ₹284.01 Lakhs\n"
     ]
    }
   ],
   "source": [
    "new_car_data_2 = pd.DataFrame({\n",
    "    'Brand': ['Mercedes'],\n",
    "    'Model': ['Sedan'],\n",
    "    'Year': [2023],\n",
    "    'Mileage_km': [5000],\n",
    "    'Fuel_Type': ['Diesel'],\n",
    "    'Transmission': ['Automatic'],\n",
    "    'Engine_Size_L': [3.0],\n",
    "    'Horsepower_bhp': [250],\n",
    "    'Seats': [5]\n",
    "})\n",
    "\n",
    "predicted_price_2 = model_pipeline.predict(new_car_data_2)\n",
    "\n",
    "print(f\"\\nNew Car Data 2:\\n{new_car_data_2}\")\n",
    "print(f\"Predicted Car Price 2: ₹{predicted_price_2[0]:,.2f} Lakhs\")\n"
   ]
  },
  {
   "cell_type": "code",
   "execution_count": null,
   "id": "cb70ec57-dc5a-42ee-8f30-94569db18931",
   "metadata": {},
   "outputs": [],
   "source": []
  },
  {
   "cell_type": "code",
   "execution_count": null,
   "id": "3026094e-5d05-41d4-9811-9c47103feb0a",
   "metadata": {},
   "outputs": [],
   "source": []
  }
 ],
 "metadata": {
  "kernelspec": {
   "display_name": "Python 3 (ipykernel)",
   "language": "python",
   "name": "python3"
  },
  "language_info": {
   "codemirror_mode": {
    "name": "ipython",
    "version": 3
   },
   "file_extension": ".py",
   "mimetype": "text/x-python",
   "name": "python",
   "nbconvert_exporter": "python",
   "pygments_lexer": "ipython3",
   "version": "3.13.5"
  }
 },
 "nbformat": 4,
 "nbformat_minor": 5
}
